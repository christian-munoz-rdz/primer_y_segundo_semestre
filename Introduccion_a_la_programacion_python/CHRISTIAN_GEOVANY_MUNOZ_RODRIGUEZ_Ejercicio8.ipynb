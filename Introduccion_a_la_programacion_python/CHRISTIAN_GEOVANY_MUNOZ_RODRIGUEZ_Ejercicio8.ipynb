{
  "nbformat": 4,
  "nbformat_minor": 0,
  "metadata": {
    "colab": {
      "provenance": [],
      "collapsed_sections": []
    },
    "kernelspec": {
      "name": "python3",
      "display_name": "Python 3"
    },
    "language_info": {
      "name": "python"
    }
  },
  "cells": [
    {
      "cell_type": "markdown",
      "metadata": {
        "id": "NLqFhG66MjCh"
      },
      "source": [
        "**Ejercicio 1**\n",
        "\n",
        "Escribe un programa python que pida un número por teclado y que cree un diccionario cuyas claves sean desde el número 1 hasta el número indicado, y los valores sean los cuadrados de las claves."
      ]
    },
    {
      "cell_type": "code",
      "metadata": {
        "id": "U5l4sunLMdba"
      },
      "source": [
        "print(\"Ingrese un número\")\n",
        "num = int(input())\n",
        "\n",
        "cuadrados = {i: i**2 for i in range (1,num+1)}\n",
        "\n",
        "print(f'Cuadrados del 1 al {num}')\n",
        "\n",
        "for x,y in cuadrados.items():\n",
        "  print(x,'-',y)"
      ],
      "execution_count": null,
      "outputs": []
    },
    {
      "cell_type": "markdown",
      "metadata": {
        "id": "3zHqi4rDMxnA"
      },
      "source": [
        "**Ejercicio 2**\n",
        "\n",
        "Escribir un programa que cree un diccionario simulando una cesta de la compra. El programa debe preguntar el artículo y su precio y añadir el par al diccionario, hasta que el usuario decida terminar. Después se debe mostrar por pantalla la lista de la compra y el coste total."
      ]
    },
    {
      "cell_type": "code",
      "metadata": {
        "id": "gjrzDSenM73R",
        "colab": {
          "base_uri": "https://localhost:8080/"
        },
        "outputId": "96063d06-6c3f-4c71-f7f9-abe3b0467e2c"
      },
      "source": [
        "cesta = {}\n",
        "total = 0\n",
        "while True:\n",
        "  print('='*30)\n",
        "  print(\"-Si desea agregar un artículo al carrito presione 1-\\n-Si desea salir presione 2\")\n",
        "  print('='*30)\n",
        "  opcion = int(input())\n",
        "  if opcion == 2:\n",
        "    break\n",
        "  elif opcion == 1:\n",
        "    articulo = input(\"\\nNombre del artículo--->\")\n",
        "    precio = float(input(\"\\nPrecio del artículo--->\")) \n",
        "    cesta[articulo] = precio\n",
        "  else:\n",
        "    print(\"\\nIngrese una opción válida\")\n",
        "\n",
        "print(\"\\nEsta es su lista de compras:\\n\")\n",
        "\n",
        "for x,y in cesta.items():\n",
        "  total += y\n",
        "  print(f\"{x} a {y} pesos\")\n",
        "\n",
        "print(f\"\\nSu cuenta es de {total} pesos\")\n",
        "  "
      ],
      "execution_count": null,
      "outputs": [
        {
          "output_type": "stream",
          "text": [
            "==============================\n",
            "-Si desea agregar un artículo al carrito presione 1-\n",
            "-Si desea salir presione 2\n",
            "==============================\n",
            "1\n",
            "\n",
            "Nombre del artículo--->Coca\n",
            "\n",
            "Precio del artículo--->12\n",
            "==============================\n",
            "-Si desea agregar un artículo al carrito presione 1-\n",
            "-Si desea salir presione 2\n",
            "==============================\n",
            "1\n",
            "\n",
            "Nombre del artículo--->Sabritas\n",
            "\n",
            "Precio del artículo--->15\n",
            "==============================\n",
            "-Si desea agregar un artículo al carrito presione 1-\n",
            "-Si desea salir presione 2\n",
            "==============================\n",
            "1\n",
            "\n",
            "Nombre del artículo--->Dulces\n",
            "\n",
            "Precio del artículo--->10\n",
            "==============================\n",
            "-Si desea agregar un artículo al carrito presione 1-\n",
            "-Si desea salir presione 2\n",
            "==============================\n",
            "2\n",
            "\n",
            "Esta es su lista de compras:\n",
            "\n",
            "Coca a 12.0 pesos\n",
            "Sabritas a 15.0 pesos\n",
            "Dulces a 10.0 pesos\n",
            "\n",
            "Su cuenta es de 37.0 pesos\n"
          ],
          "name": "stdout"
        }
      ]
    },
    {
      "cell_type": "markdown",
      "metadata": {
        "id": "2_ozdhJFM8Ma"
      },
      "source": [
        "**Ejercicio 3**\n",
        "\n",
        "Escribir un programa que pregunte al usuario su nombre, edad, dirección y teléfono y lo guarde en un diccionario. Después debe mostrar por pantalla el siguiente mensaje **nombre** tiene **edad** años, vive en **<dirección>** y su número de teléfono es **<teléfono>**."
      ]
    },
    {
      "cell_type": "code",
      "metadata": {
        "id": "OWWGjN81NsTR",
        "colab": {
          "base_uri": "https://localhost:8080/"
        },
        "outputId": "518cb606-7f4f-4509-abad-bae8a2878960"
      },
      "source": [
        "datos = {}\n",
        "\n",
        "datos['Nombre'] = input('Nombre --->')\n",
        "datos['Edad'] = input('Edad --->')\n",
        "datos['Dirección'] = input('Dirección--->')\n",
        "datos['Telefono'] = input('Teléfono --->')\n",
        "\n",
        "print(datos['Nombre'] + \" tiene \" + datos['Edad']  + \" años, vive en \" + datos['Dirección'] + \" y su número de teléfono es \" + datos['Telefono'])\n",
        "\n"
      ],
      "execution_count": null,
      "outputs": [
        {
          "output_type": "stream",
          "text": [
            "Nombre --->Christian \n",
            "Edad --->22\n",
            "Dirección--->Circuito Santa Rosalía Norte 288, Tonalá, Jalisco\n",
            "Teléfono --->4671035467\n",
            "Christian  tiene 22 años, vive en Circuito Santa Rosalía Norte 288, Tonalá, Jalisco y su número de teléfono es 4671035467\n"
          ],
          "name": "stdout"
        }
      ]
    }
  ]
}