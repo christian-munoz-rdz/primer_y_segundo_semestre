{
  "nbformat": 4,
  "nbformat_minor": 0,
  "metadata": {
    "colab": {
      "provenance": [],
      "collapsed_sections": []
    },
    "kernelspec": {
      "name": "python3",
      "display_name": "Python 3"
    },
    "language_info": {
      "name": "python"
    }
  },
  "cells": [
    {
      "cell_type": "markdown",
      "metadata": {
        "id": "_KQNIqBIB3_6"
      },
      "source": [
        "# **Sentencia Iterativa While**"
      ]
    },
    {
      "cell_type": "markdown",
      "metadata": {
        "id": "h02DBiLOyl3Z"
      },
      "source": [
        "**Ejercicio 1**\n",
        "\n",
        "\n",
        "> Iniciar una variable (contador) con un valor de 50. Imprimir la palabra PROGRAMACIÓN mientras que el valor del contador sea mayor que 12, el contador se ira decrementando de tres en tres.\n",
        "\n"
      ]
    },
    {
      "cell_type": "code",
      "metadata": {
        "id": "IdOXv9pJyKeD",
        "colab": {
          "base_uri": "https://localhost:8080/"
        },
        "outputId": "4895922e-58b0-4d8a-b476-5361c5a92d26"
      },
      "source": [
        "x= 50\n",
        "print(\"Programación x13 \")\n",
        "while x > 12:\n",
        "  print(\"\\nProgramación\")\n",
        "  x -= 3\n",
        "print(\"\\nFin\")"
      ],
      "execution_count": null,
      "outputs": [
        {
          "output_type": "stream",
          "text": [
            "Programación x13 \n",
            "\n",
            "Programación\n",
            "\n",
            "Programación\n",
            "\n",
            "Programación\n",
            "\n",
            "Programación\n",
            "\n",
            "Programación\n",
            "\n",
            "Programación\n",
            "\n",
            "Programación\n",
            "\n",
            "Programación\n",
            "\n",
            "Programación\n",
            "\n",
            "Programación\n",
            "\n",
            "Programación\n",
            "\n",
            "Programación\n",
            "\n",
            "Programación\n",
            "\n",
            "Fin\n"
          ],
          "name": "stdout"
        }
      ]
    }
  ]
}