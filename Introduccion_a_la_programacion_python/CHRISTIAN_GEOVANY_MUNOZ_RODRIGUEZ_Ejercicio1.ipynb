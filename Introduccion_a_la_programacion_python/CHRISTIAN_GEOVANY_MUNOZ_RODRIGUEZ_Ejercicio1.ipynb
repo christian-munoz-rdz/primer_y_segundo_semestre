{
  "nbformat": 4,
  "nbformat_minor": 0,
  "metadata": {
    "colab": {
      "provenance": [],
      "collapsed_sections": []
    },
    "kernelspec": {
      "name": "python3",
      "display_name": "Python 3"
    }
  },
  "cells": [
    {
      "cell_type": "markdown",
      "metadata": {
        "id": "obtKIIjdrW9x"
      },
      "source": [
        "Nombre: Christian Geovany Muñoz Rodríguez  Código:  221350605"
      ]
    },
    {
      "cell_type": "markdown",
      "metadata": {
        "id": "mtE8SPhSsA2v"
      },
      "source": [
        "# **Ejercicio 1**"
      ]
    },
    {
      "cell_type": "code",
      "metadata": {
        "colab": {
          "base_uri": "https://localhost:8080/"
        },
        "id": "dxKFHB9Mr_Kt",
        "outputId": "073902b3-e81d-4ff5-f489-b381d194630e"
      },
      "source": [
        "#En una variable guarde una cadena en la cual describa su motivación para estudiar la carrera de computación\n",
        "motivo= 'Curiosidad por comprender como funciona la tecnología de nuesto día a día'\n",
        "#imprima en pantalla a la frase completa.\n",
        "print (motivo)\n",
        "#Duplique la frase por medio de una operación de repetición e imprima en pantalla.\n",
        "print (motivo*2)\n",
        "#Concatene la frase \" Gracias por su atención. \" al final de su frase e imprima en pantalla.\n",
        "print (motivo + \", gracias por su atención\")\n",
        "#Aplique al menos tres subdivisiones a su frase e imprima en pantalla.\n",
        "#1\n",
        "print (motivo[15])\n",
        "#2\n",
        "print (motivo[0:25])\n",
        "#3\n",
        "print (motivo[7:])"
      ],
      "execution_count": null,
      "outputs": [
        {
          "output_type": "stream",
          "text": [
            "Curiosidad por comprender como funciona la tecnología de nuesto día a día\n",
            "Curiosidad por comprender como funciona la tecnología de nuesto día a díaCuriosidad por comprender como funciona la tecnología de nuesto día a día\n",
            "Curiosidad por comprender como funciona la tecnología de nuesto día a día, gracias por su atención\n",
            "c\n",
            "Curiosidad por comprender\n",
            "dad por comprender como funciona la tecnología de nuesto día a día\n"
          ],
          "name": "stdout"
        }
      ]
    },
    {
      "cell_type": "markdown",
      "metadata": {
        "id": "3wGzz32Qt9dU"
      },
      "source": [
        "# **Ejercicio 2**"
      ]
    },
    {
      "cell_type": "code",
      "metadata": {
        "colab": {
          "base_uri": "https://localhost:8080/"
        },
        "id": "Vjh-aYdQuJQ5",
        "outputId": "f691a7d5-6cb6-4453-82d2-50009e52f337"
      },
      "source": [
        "#declare dos valores con valores de tipo entero o real\n",
        "a=45\n",
        "b=89\n",
        "#Sume ambas variables e imprima el resultado\n",
        "print (a+b)\n",
        "#Reste ambas variables e imprima el resultado\n",
        "print (a-b)\n",
        "#Multiplique ambas variables e imprima el resultado\n",
        "print (a*b)\n",
        "#Divida ambas variables e imprima el resultado\n",
        "print (a/b)\n",
        "#Divida por medio de la división de piso a ambas variables e imprima el resultado\n",
        "print (b//a)\n",
        "#Saque el módulo e imprima el resultado\n",
        "print (b%a)\n",
        "#Eleve a ambas variables a la potencia 3 e imprima el resultado\n",
        "print (a**3)\n",
        "print (b**3)"
      ],
      "execution_count": null,
      "outputs": [
        {
          "output_type": "stream",
          "text": [
            "134\n",
            "-44\n",
            "4005\n",
            "0.5056179775280899\n",
            "1\n",
            "44\n",
            "91125\n",
            "704969\n"
          ],
          "name": "stdout"
        }
      ]
    },
    {
      "cell_type": "markdown",
      "metadata": {
        "id": "K2wHtLkAwJq3"
      },
      "source": [
        "# **Ejercicio 3**"
      ]
    },
    {
      "cell_type": "code",
      "metadata": {
        "colab": {
          "base_uri": "https://localhost:8080/"
        },
        "id": "O2dF7LFLwVu9",
        "outputId": "2c972afd-56d4-4171-dae7-c9cee3d8ea09"
      },
      "source": [
        "#Tome las variables declaradas en el ejercicio 2\n",
        "a=45\n",
        "b=89\n",
        "#Variable 1 igual a Variable 2\n",
        "print (a==b)\n",
        "#Variable 1 diferente a Variable 2\n",
        "print (a!=b)\n",
        "#Variable 2 mayor que Variable 1\n",
        "print (b>a)\n",
        "#Variable 2 menor que Variable 1\n",
        "print (b<a)\n",
        "#Variable 1 mayor o igual que Variable 2\n",
        "print (a>=b)\n",
        "#Variable 1 menor o igual que Variable 2\n",
        "print (a<=b)"
      ],
      "execution_count": null,
      "outputs": [
        {
          "output_type": "stream",
          "text": [
            "False\n",
            "True\n",
            "True\n",
            "False\n",
            "False\n",
            "True\n"
          ],
          "name": "stdout"
        }
      ]
    },
    {
      "cell_type": "markdown",
      "metadata": {
        "id": "IY0ZhMH-xznp"
      },
      "source": [
        "# **Ejercicio 4**"
      ]
    },
    {
      "cell_type": "code",
      "metadata": {
        "colab": {
          "base_uri": "https://localhost:8080/"
        },
        "id": "PlCozX5Px3lC",
        "outputId": "9eda572f-8b5a-42c6-d4cf-e65904797e3a"
      },
      "source": [
        "#Tome las variables declaradas en el ejercicio 2\n",
        "a=45\n",
        "b=89\n",
        "#no(V1 - 5 >= V2 + 9 y V2 != V1)\n",
        "print (( not (a-5>=b+9 and b!=a)))\n",
        "#(V2 x 5 < V1 / 3) o no(V1 == V2 potencia 2)\n",
        "print ((b*5<a/3) or (not (a==b**2)))"
      ],
      "execution_count": null,
      "outputs": [
        {
          "output_type": "stream",
          "text": [
            "True\n",
            "True\n"
          ],
          "name": "stdout"
        }
      ]
    },
    {
      "cell_type": "markdown",
      "metadata": {
        "id": "AZnxS6xwz-E2"
      },
      "source": [
        "# **Indicaciones**"
      ]
    },
    {
      "cell_type": "markdown",
      "metadata": {
        "id": "ri6KWcN6q6le"
      },
      "source": [
        "**Ejercicios para verificar los temas de expresiones y variables.**\n",
        "\n",
        "Realice lo siguiente:\n",
        "\n",
        "Escribir su nombre y su código en una celda de texto al inicio del documento de google colab.\n",
        "\n",
        "**Ejercicio 1:** \n",
        "\n",
        "Agregue una celda de código y en una variable guarde una cadena en la cual describa su motivación para estudiar la carrera de computación. Hecho esto realice lo siguiente:\n",
        "\n",
        "*   Imprima en pantalla a la frase completa.\n",
        "*   Duplique la frase por medio de una operación de repetición e imprima en pantalla.\n",
        "*   Concatene la frase \" Gracias por su atención. \" al final de su frase e imprima en pantalla.\n",
        "*   Aplique al menos tres subdivisiones a su frase e imprima en pantalla.\n",
        "\n",
        "**Ejercicio 2:**\n",
        "\n",
        "Declare dos variables (Ej. A = 14 y B = 50.98) con valores de tipo entero o real y realice lo siguiente:\n",
        "\n",
        "*   Sume ambas variables e imprima el resultado.\n",
        "*   Reste ambas variables e imprima el resultado.\n",
        "*   Multiplique ambas variables e imprima el resultado.\n",
        "*   Divida ambas variables e imprima el resultado.\n",
        "*   Divida por medio de la división de piso a ambas variables e imprima el resultado.\n",
        "*   Saque el módulo e imprima el resultado.\n",
        "*   Eleve a ambas variables a la potencia 3 e imprima el resultado.\n",
        "\n",
        "**Ejercicio 3:**\n",
        "\n",
        "Tome las variables declaradas en el ejercicio 2, realice las siguientes comparaciones e imprima el resultado en pantalla:\n",
        "\n",
        "*   Variable 1 igual a Variable 2\n",
        "*   Variable 1 diferente a Variable 2\n",
        "*   Variable 2 mayor que Variable 1\n",
        "*   Variable 2 menor que Variable 1\n",
        "*   Variable 1 mayor o igual que Variable 2\n",
        "*   Variable 1 menor o igual que Variable 2\n",
        "\n",
        "**Ejercicio 4:**\n",
        "\n",
        "Tome las variables declaradas en el ejercicio 2 y realice lo siguiente e imprima el resultado en pantalla:\n",
        "\n",
        "\n",
        "\n",
        "*   **no**(V1 - 5 >= V2 + 9 **y** V2 != V1)\n",
        "*   (V2 x 5 < V1 / 3) **o** **no**(V1 == V2 potencia 2)\n",
        "\n",
        "**Nota:** Separe cada ejercicio en una celda de código distinta y agregue una celda de texto que indique el nombre del ejercicio."
      ]
    }
  ]
}