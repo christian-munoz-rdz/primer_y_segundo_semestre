{
  "nbformat": 4,
  "nbformat_minor": 0,
  "metadata": {
    "colab": {
      "provenance": [],
      "collapsed_sections": []
    },
    "kernelspec": {
      "name": "python3",
      "display_name": "Python 3"
    },
    "language_info": {
      "name": "python"
    }
  },
  "cells": [
    {
      "cell_type": "markdown",
      "metadata": {
        "id": "aeO2HudqxIV1"
      },
      "source": [
        "# **CONJUNTOS**"
      ]
    },
    {
      "cell_type": "markdown",
      "metadata": {
        "id": "_0IVeeQ7pfv3"
      },
      "source": [
        "**Ejercicio 1**\n",
        "\n",
        "**Nota:** Todo se debe imprimir en pantalla.\n",
        "1. Agregue una celda de código y determine 2 conjuntos con al menos 5 elementos distintos cada uno.\n",
        "2. Declare un tercer conjunto a partir de un objeto iterable.\n",
        "3. Declare un cuarto conjunto de tipo inmutable por medio de la función frozenset().\n",
        "4. Evalúe si los elementos 5, ‘A’ y 17 pertenecen a alguno de los 4 conjuntos declarados.\n",
        "5. Añada un nuevo elemento al primer conjunto por medio de la función add().\n",
        "6. Elimine a un elemento del segundo conjunto por medio de la función discard().\n",
        "7. Elimine a un elemento del tercer conjunto por medio de la función remove().\n",
        "8. Elimine a un elemento del primer conjunto por medio de la función pop().\n",
        "9. Elimine a todos los elementos del tercer conjunto por medio de la función clear().\n",
        "10. Verifique la longitud del primer conjunto por medio de la función len().\n",
        "11. Copie los elementos del segundo conjunto al tercer conjunto por medio de la función copy().\n",
        "12. Actualice los elementos del primer conjunto con los elementos del segundo conjunto por medio de la función update().\n",
        "13. Encuentre el valor máximo y mínimo del 1er, 2do y 4to conjunto por medio de las funciones max() y min() respectivamente.\n",
        "14. Itere sobre todos los elementos del primer conjunto e imprímalos.\n"
      ]
    },
    {
      "cell_type": "code",
      "metadata": {
        "colab": {
          "base_uri": "https://localhost:8080/"
        },
        "id": "OW_dsDj8oJSA",
        "outputId": "acd4abe2-13c5-426e-82f9-d9e4319fbe79"
      },
      "source": [
        "#1.-Determinar 2 conjuntos con al menos 5 elementos distintos cada uno\n",
        "print(\"Definiendo los conjuntos:\")\n",
        "conj_a= {23,48,34,98,78}\n",
        "conj_b= {45,67,128,99,156}\n",
        "\n",
        "print(f\"Conjunto A: {conj_a} \\nConjunto B: {conj_b}\")\n",
        "\n",
        "#2.-Declare un tercer conjunto a partir de un objeto iterable\n",
        "conj_c = set(range(2,51,2))\n",
        "print(f\"Conjunto C: {conj_c}\")\n",
        "\n",
        "#3.-Declare un cuarto conjunto de tipo inmutable por medio de la función frozenset()\n",
        "conj_d = frozenset({16,89,56,43,17,567})\n",
        "print(f\"Conjunto D: {conj_d}\")\n",
        "\n",
        "#4.-Evalúe si los elementos 5, ‘A’ y 17 pertenecen a alguno de los 4 conjuntos declarados.\n",
        "print(\"\\nEvalauando la pertenecia de un elemento:\")\n",
        "print(f\"\\n¿5 pertenece a los conjuntos?\\n Para el conjunto A: {5 in conj_a}\\n Para el conjunto B: {5 in conj_b}\\n Para el conjunto C: {5 in conj_c}\\n Para el conjunto D: {5 in conj_d}\")\n",
        "print(f\"\\n¿'A' pertenece a los conjuntos?\\n Para el conjunto A: {'A' in conj_a}\\n Para el conjunto B: {'A' in conj_b}\\n Para el conjunto C: {'A' in conj_c}\\n Para el conjunto D: {'A' in conj_d}\")\n",
        "print(f\"\\n¿17 pertenece a los conjuntos?\\n Para el conjunto A: {17 in conj_a}\\n Para el conjunto B: {17 in conj_b}\\n Para el conjunto C: {17 in conj_c}\\n Para el conjunto D: {17 in conj_d}\")\n",
        "\n",
        "#5.-Añada un nuevo elemento al primer conjunto por medio de la función add().\n",
        "print(\"\\nUso de la función add()\")\n",
        "conj_a.add(12367)\n",
        "print(f\"Se agregó 12367 al Conjunto A: {conj_a}\")\n",
        "\n",
        "#6.-Elimine a un elemento del segundo conjunto por medio de la función discard().\n",
        "print(\"\\nUso de la función discard()\")\n",
        "conj_b.discard(128)\n",
        "print(f\"Se eliminó 128 del conjunto B: {conj_b}\")\n",
        "\n",
        "#7.-Elimine a un elemento del tercer conjunto por medio de la función remove().\n",
        "print(\"\\nUso de la función remove()\")\n",
        "conj_c.remove(36)\n",
        "print(f\"Se eliminó 36 del conjunto C: {conj_c}\")\n",
        "\n",
        "#8.-Elimine a un elemento del primer conjunto por medio de la función pop().\n",
        "print(\"\\nUso de la función pop()\")\n",
        "conj_a.pop()\n",
        "print(f\"Se eliminó un elemento al azar del Conjunto A: {conj_a}\")\n",
        "\n",
        "#9.-Elimine a todos los elementos del tercer conjunto por medio de la función clear().\n",
        "print(\"\\nUso de la función clear()\")\n",
        "conj_c.clear()\n",
        "print(f\"Se eliminaron todos los elementos del Conjunto C: {conj_c}\")\n",
        "\n",
        "#10.-Verifique la longitud del primer conjunto por medio de la función len().\n",
        "print(\"\\nNúmero de elementos en un conjunto\")\n",
        "print(f\"Elementos del conjunto A: {len(conj_a)}\")\n",
        "\n",
        "#11.-Copie los elementos del segundo conjunto al tercer conjunto por medio de la función copy()\n",
        "print(\"\\nUso de la función copy()\")\n",
        "conj_c = conj_b.copy()\n",
        "print(f\"Se copiaron los elementos del conjunto B al Conjunto C.\\nConjunto B:{conj_b}\\nConjunto C:{conj_c}\")\n",
        "\n",
        "#12.-Actualice los elementos del primer conjunto con los elementos del segundo conjunto por medio de la función update().\n",
        "print(\"\\nUso de la función update()\")\n",
        "conj_a.update(conj_b)\n",
        "print(f\"Se actualizaron los elementos del conjunto A con los elementos del conjunto B: {conj_a}\")\n",
        "\n",
        "#13.-Encuentre el valor máximo y mínimo del 1er, 2do y 4to conjunto por medio de las funciones max() y min() respectivamente.\n",
        "print(\"\\nMáximo y Mínimo\")\n",
        "print(f\"Valor Máximo del conjunto A: {max(conj_a)}\\nValor Mínimo del conjunto A: {min(conj_a)}\")\n",
        "print(f\"Valor Máximo del conjunto B: {max(conj_b)}\\nValor Mínimo del conjunto B: {min(conj_b)}\")\n",
        "print(f\"Valor Máximo del conjunto D: {max(conj_d)}\\nValor Mínimo del conjunto D: {min(conj_d)}\")\n",
        "\n",
        "#14.-Itere sobre todos los elementos del primer conjunto e imprímalos.\n",
        "print(\"\\nIteración de conjuntos\")\n",
        "print(\"Elementos del conjunto A:\")\n",
        "for element in conj_a:\n",
        "  print(element)\n",
        "\n"
      ],
      "execution_count": null,
      "outputs": [
        {
          "output_type": "stream",
          "text": [
            "Definiendo los conjuntos:\n",
            "Conjunto A: {34, 98, 78, 48, 23} \n",
            "Conjunto B: {128, 99, 67, 45, 156}\n",
            "Conjunto C: {2, 4, 6, 8, 10, 12, 14, 16, 18, 20, 22, 24, 26, 28, 30, 32, 34, 36, 38, 40, 42, 44, 46, 48, 50}\n",
            "Conjunto D: frozenset({16, 17, 567, 56, 89, 43})\n",
            "\n",
            "Evalauando la pertenecia de un elemento:\n",
            "\n",
            "¿5 pertenece a los conjuntos?\n",
            " Para el conjunto A: False\n",
            " Para el conjunto B: False\n",
            " Para el conjunto C: False\n",
            " Para el conjunto D: False\n",
            "\n",
            "¿'A' pertenece a los conjuntos?\n",
            " Para el conjunto A: False\n",
            " Para el conjunto B: False\n",
            " Para el conjunto C: False\n",
            " Para el conjunto D: False\n",
            "\n",
            "¿17 pertenece a los conjuntos?\n",
            " Para el conjunto A: False\n",
            " Para el conjunto B: False\n",
            " Para el conjunto C: False\n",
            " Para el conjunto D: True\n",
            "\n",
            "Uso de la función add()\n",
            "Se agregó 12367 al Conjunto A: {34, 98, 78, 12367, 48, 23}\n",
            "\n",
            "Uso de la función discard()\n",
            "Se eliminó 128 del conjunto B: {99, 67, 45, 156}\n",
            "\n",
            "Uso de la función remove()\n",
            "Se eliminó 36 del conjunto C: {2, 4, 6, 8, 10, 12, 14, 16, 18, 20, 22, 24, 26, 28, 30, 32, 34, 38, 40, 42, 44, 46, 48, 50}\n",
            "\n",
            "Uso de la función pop()\n",
            "Se eliminó un elemento al azar del Conjunto A: {98, 78, 12367, 48, 23}\n",
            "\n",
            "Uso de la función clear()\n",
            "Se eliminaron todos los elementos del Conjunto C: set()\n",
            "\n",
            "Número de elementos en un conjunto\n",
            "Elementos del conjunto A: 5\n",
            "\n",
            "Uso de la función copy()\n",
            "Se copiaron los elementos del conjunto B al Conjunto C.\n",
            "Conjunto B:{99, 67, 45, 156}\n",
            "Conjunto C:{67, 99, 156, 45}\n",
            "\n",
            "Uso de la función update()\n",
            "Se actualizaron los elementos del conjunto A con los elementos del conjunto B: {98, 99, 67, 45, 78, 12367, 48, 23, 156}\n",
            "\n",
            "Máximo y Mínimo\n",
            "Valor Máximo del conjunto A: 12367\n",
            "Valor Mínimo del conjunto A: 23\n",
            "Valor Máximo del conjunto B: 156\n",
            "Valor Mínimo del conjunto B: 45\n",
            "Valor Máximo del conjunto D: 567\n",
            "Valor Mínimo del conjunto D: 16\n",
            "\n",
            "Iteración de conjuntos\n",
            "Elementos del conjunto A:\n",
            "98\n",
            "99\n",
            "67\n",
            "45\n",
            "78\n",
            "12367\n",
            "48\n",
            "23\n",
            "156\n"
          ],
          "name": "stdout"
        }
      ]
    },
    {
      "cell_type": "code",
      "metadata": {
        "id": "ZNbHDu3jpUNQ"
      },
      "source": [],
      "execution_count": null,
      "outputs": []
    },
    {
      "cell_type": "markdown",
      "metadata": {
        "id": "MbnXvbjhrIyA"
      },
      "source": [
        "**Ejercicio 2**\n",
        "\n",
        "\n",
        "1. Agregue una celda de código y declare los siguientes conjuntos:\n",
        "\n",
        "  A = {3, 6, 9, 12, 15, 18, 21, 24, 27, 30}\n",
        "\n",
        "  B = {2, 4, 6, 8, 10, 12, 14, 16, 18, 20}\n",
        "\n",
        "  C = {5, 10, 15, 20, 25, 30, 35, 40, 45, 50}\n",
        "2. Realice la operación A∪B∪C (unión) e imprima la respuesta.\n",
        "3. Realice la operación B∩C∩A (intersección) e imprima la respuesta.\n",
        "4. Realice la operación B\\A (diferencia) e imprima la respuesta.\n",
        "5. Realice la operación C ^ A (diferencia simétrica) e imprima la respuesta.\n",
        "6. Realice la operación A == B (igualdad) e imprima la respuesta.\n",
        "7. Indique si B es un subconjunto de A.\n",
        "8. Indique si C es un superconjunto de B.\n",
        "9. Indique si A es un conjunto disconexo de B y C.\n"
      ]
    },
    {
      "cell_type": "code",
      "metadata": {
        "colab": {
          "base_uri": "https://localhost:8080/"
        },
        "id": "GywOO344xbAk",
        "outputId": "da370cfe-75d4-4056-d441-227b049fcc09"
      },
      "source": [
        "#1.-Agregue una celda de código y declare los siguientes conjuntos:\n",
        "A = {3, 6, 9, 12, 15, 18, 21, 24, 27, 30}\n",
        "B = {2, 4, 6, 8, 10, 12, 14, 16, 18, 20}\n",
        "C = {5, 10, 15, 20, 25, 30, 35, 40, 45, 50}\n",
        "print(\"Declaración de conjuntos:\")\n",
        "print(f\"Conjunto A: {A}\\nConjunto B: {B}\\nConjunto C: {C}\")\n",
        "\n",
        "#2.-Realice la operación A∪B∪C (unión) e imprima la respuesta.\n",
        "print(f\"\\nUnión de todos los conjuntos: {A|B|C}\")\n",
        "\n",
        "#3.-Realice la operación B∩C∩A (intersección) e imprima la respuesta.\n",
        "print(f\"\\nIntersección de todos los conjuntos: {B&C&A}\")\n",
        "\n",
        "#4.-Realice la operación B\\A (diferencia) e imprima la respuesta.\n",
        "print(f\"\\nDiferencia del Conjunto B respecto al conjunto A: {B-A}\")\n",
        "\n",
        "#5.-Realice la operación C ^ A (diferencia simétrica) e imprima la respuesta.\n",
        "print(f\"\\nDiferencia simétrica del Conjunto C y el conjunto A: {C^A}\")\n",
        "\n",
        "#6.-Realice la operación A == B (igualdad) e imprima la respuesta.\n",
        "print(f\"\\n¿El conjutno A y el Conjunto B son iguales?: {A==B}\")\n",
        "\n",
        "#7.-Indique si B es un subconjunto de A.\n",
        "print(f\"\\n¿El conjunto B es un subconjunto del conjunto A?: {B.issubset(A)}\")\n",
        "\n",
        "#8.-Indique si C es un superconjunto de B.\n",
        "print(f\"\\n¿El conjunto C es un superconjunto del conjunto B?: {C.issuperset(B)}\")\n",
        "\n",
        "#9.-Indique si A es un conjunto disconexo de B y C.\n",
        "print(f\"\\n¿El conjunto A es disconexo del conjunto B?: {A.isdisjoint(B)}\\n¿El conjunto A es disconexo del conjunto C?: {A.isdisjoint(C)}\")"
      ],
      "execution_count": null,
      "outputs": [
        {
          "output_type": "stream",
          "text": [
            "Declaración de conjuntos:\n",
            "Conjunto A: {3, 6, 9, 12, 15, 18, 21, 24, 27, 30}\n",
            "Conjunto B: {2, 4, 6, 8, 10, 12, 14, 16, 18, 20}\n",
            "Conjunto C: {35, 5, 40, 10, 45, 15, 50, 20, 25, 30}\n",
            "\n",
            "Unión de todos los conjuntos: {2, 3, 4, 5, 6, 8, 9, 10, 12, 14, 15, 16, 18, 20, 21, 24, 25, 27, 30, 35, 40, 45, 50}\n",
            "\n",
            "Intersección de todos los conjuntos: set()\n",
            "\n",
            "Diferencia del Conjunto B respecto al conjunto A: {2, 4, 8, 10, 14, 16, 20}\n",
            "\n",
            "Diferencia simétrica del Conjunto C y el conjunto A: {3, 35, 5, 6, 40, 9, 10, 12, 45, 18, 50, 20, 21, 24, 25, 27}\n",
            "\n",
            "¿El conjutno A y el Conjunto B son iguales?: False\n",
            "\n",
            "¿El conjunto B es un subconjunto del conjunto A?: False\n",
            "\n",
            "¿El conjunto C es un superconjunto del conjunto B?: False\n",
            "\n",
            "¿El conjunto A es disconexo del conjunto B?: False\n",
            "¿El conjunto A es disconexo del conjunto C?: False\n"
          ],
          "name": "stdout"
        }
      ]
    },
    {
      "cell_type": "code",
      "metadata": {
        "id": "BpV8GXytv9wn"
      },
      "source": [],
      "execution_count": null,
      "outputs": []
    }
  ]
}