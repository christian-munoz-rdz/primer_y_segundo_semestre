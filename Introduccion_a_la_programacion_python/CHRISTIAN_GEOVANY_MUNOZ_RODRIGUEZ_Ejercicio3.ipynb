{
  "nbformat": 4,
  "nbformat_minor": 0,
  "metadata": {
    "colab": {
      "provenance": [],
      "collapsed_sections": []
    },
    "kernelspec": {
      "name": "python3",
      "display_name": "Python 3"
    }
  },
  "cells": [
    {
      "cell_type": "markdown",
      "metadata": {
        "id": "cHw92JRfZ_5Y"
      },
      "source": [
        "# **Sentencias Selectivas**\n",
        "\n",
        "**Ejercicio 1**\n",
        "\n",
        "\n",
        "> Realice un programa que solicite la edad (Dato de tipo entero) de una persona y determine si es niño, adolescente, adulto o anciano, según el siguiente rango de edades:\n",
        "\n",
        "\n",
        "*   0 a 12 años imprimir Es niño\n",
        "*   13 a 17 años imprimir Es adolescente\n",
        "*   18 a 80 años imprimir Es adulto\n",
        "*   Mayor que 80 imprimir Es anciano\n",
        "\n",
        "> **Nota:** Utilice una estructura if - elif - else para realizar este ejercicio.\n",
        "\n",
        "\n",
        "\n",
        "\n"
      ]
    },
    {
      "cell_type": "code",
      "metadata": {
        "id": "2tdPAMEUZ7kW",
        "colab": {
          "base_uri": "https://localhost:8080/"
        },
        "outputId": "f721ae39-403e-41ff-84f0-1f0669708579"
      },
      "source": [
        "print(\"***** INICIO DEL PROGRAMA *****\")\n",
        "edad = int (input(\"\\n¿Cuál es tu edad?: \"))\n",
        "\n",
        "if edad <= 12:\n",
        "  print(\"\\nEres un niño\")\n",
        "elif edad <= 17:\n",
        "  print(\"\\nEres un adolescente\")\n",
        "elif edad <= 80:\n",
        "  print(\"\\nEres un adulto\")\n",
        "else:\n",
        "  print(\"\\nEres un Anciano\")\n",
        "\n",
        "print(\"\\n----- FIN DEL PROGRAMA -----\")"
      ],
      "execution_count": null,
      "outputs": [
        {
          "output_type": "stream",
          "text": [
            "***** INICIO DEL PROGRAMA *****\n",
            "\n",
            "¿Cuál es tu edad?: 87\n",
            "\n",
            "Eres un Anciano\n",
            "\n",
            "----- FIN DEL PROGRAMA -----\n"
          ],
          "name": "stdout"
        }
      ]
    }
  ]
}