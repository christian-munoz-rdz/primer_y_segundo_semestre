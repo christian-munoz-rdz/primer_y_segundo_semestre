{
  "nbformat": 4,
  "nbformat_minor": 0,
  "metadata": {
    "colab": {
      "provenance": [],
      "collapsed_sections": []
    },
    "kernelspec": {
      "name": "python3",
      "display_name": "Python 3"
    }
  },
  "cells": [
    {
      "cell_type": "markdown",
      "metadata": {
        "id": "pzg4Y8Cbaowz"
      },
      "source": [
        "# **Sentencias Simples**"
      ]
    },
    {
      "cell_type": "markdown",
      "metadata": {
        "id": "wNEG4fNvbHvv"
      },
      "source": [
        "**Ejercicio 1**\n",
        "\n",
        "\n",
        "> Una papelería vende plumas a 10.50, cuadernos a 46, y caja de colores a 18.75. Calcule el monto total de una venta según el número de artículos solicitados por el usuario. Muestre el total de la venta en pantalla.\n",
        "\n"
      ]
    },
    {
      "cell_type": "code",
      "metadata": {
        "id": "uGSjdoT7bGGP",
        "colab": {
          "base_uri": "https://localhost:8080/"
        },
        "outputId": "1b2c6040-cb54-4109-e65f-5c6ce9000106"
      },
      "source": [
        "plumas = int (input(\"¿Cuantas plumas vendiste?: \"))\n",
        "\n",
        "cuadernos = int (input(\"¿Cuantos cuadernos vendiste?: \"))\n",
        "\n",
        "colores = int (input(\"¿Cuantas cajas de colores vendiste?: \"))\n",
        "\n",
        "total_plumas = plumas * 10.50 \n",
        "\n",
        "total_cuadernos = cuadernos * 46 \n",
        "\n",
        "total_colores = colores * 18.75\n",
        "\n",
        "venta = total_plumas + total_cuadernos + total_colores\n",
        "\n",
        "print(\"Tu venta fue de: \", venta)\n"
      ],
      "execution_count": null,
      "outputs": [
        {
          "output_type": "stream",
          "text": [
            "¿Cuantas plumas vendiste?: 2\n",
            "¿Cuantos cuadernos vendiste?: 6\n",
            "¿Cuantas cajas de colores vendiste?: 47\n",
            "Tu venta fue de:  1178.25\n"
          ],
          "name": "stdout"
        }
      ]
    },
    {
      "cell_type": "markdown",
      "metadata": {
        "id": "Aq1F4xMzcvwN"
      },
      "source": [
        "**Ejercicio 2**\n",
        "\n",
        "\n",
        "> Solicite al usuario una cantidad en pulgadas y convierta a centímetros (1 pulgada = 2.54 cm), metros, y pies (1 pie = 12 pulgadas). Muestre las conversiones en pantalla.\n",
        "\n"
      ]
    },
    {
      "cell_type": "code",
      "metadata": {
        "id": "MlU1BezyajF9",
        "colab": {
          "base_uri": "https://localhost:8080/"
        },
        "outputId": "28532694-c14d-4f29-d15d-c3238bb31e7c"
      },
      "source": [
        "in_ = float (input(\"Deme su distancia en pulgadas: \"))\n",
        "\n",
        "cm = in_ * 2.54\n",
        "cm = round(cm,2)\n",
        "\n",
        "m = cm / 100\n",
        "m = round(m,2)\n",
        "\n",
        "ft = in_ / 12\n",
        "ft = round(ft,2)\n",
        "\n",
        "print(in_, \"pulgadas equvalen a:\", \"\\ncentímetros:\", cm, \"\\nmetros:\", m, \"\\npies:\", ft)\n"
      ],
      "execution_count": null,
      "outputs": [
        {
          "output_type": "stream",
          "text": [
            "Deme su distancia en pulgadas: 23\n",
            "23.0 pulgadas equvalen a: \n",
            "centímetros: 58.42 \n",
            "metros: 0.58 \n",
            "pies: 1.92\n"
          ],
          "name": "stdout"
        }
      ]
    },
    {
      "cell_type": "markdown",
      "metadata": {
        "id": "3YFYZs2_eqLB"
      },
      "source": [
        "**Ejercicio 3**\n",
        "\n",
        "> Leer una cantidad en pesos (número entero) y calcular a cuantos billetes de 500, 200, 100, 50, 20 y monedas de 10, 5, 2 y 1 peso equivale. Desplegar el resultado en pantalla. **Ejemplo:**\n",
        "\n",
        "1257 pesos equivalen a:\n",
        "\n",
        "2 billetes de 500\n",
        "\n",
        "1 billetes de 200\n",
        "\n",
        "0 billetes de 100\n",
        "\n",
        "1 billetes de 50\n",
        "\n",
        "0 billetes de 20\n",
        "\n",
        "0 monedas de 10\n",
        "\n",
        "1 monedas de 5\n",
        "\n",
        "1 monedas de 2\n",
        "\n",
        "0 monedas de 1\n"
      ]
    },
    {
      "cell_type": "code",
      "metadata": {
        "id": "b4gaqZt7hLvN",
        "colab": {
          "base_uri": "https://localhost:8080/"
        },
        "outputId": "fdbbe4fc-783c-4c4b-def1-6dc70af7cd5d"
      },
      "source": [
        "dinero  = int (input(\"¿Cuánto dinero tienes?:\"))\n",
        "print (\"tienes \", dinero, \" pesos\")\n",
        "\n",
        "billetes_500 = dinero // 500\n",
        "print (billetes_500, \" billetes de 500\")\n",
        "\n",
        "dinero_200 = dinero - 500 * billetes_500\n",
        "billetes_200 = dinero_200 // 200\n",
        "print (billetes_200, \" billetes de 200\")\n",
        "\n",
        "dinero_100 = dinero_200  - 200 * billetes_200\n",
        "billetes_100 = dinero_100 // 100\n",
        "print (billetes_100, \" billetes de 100\")\n",
        "\n",
        "dinero_50 = dinero_100  - 100 * billetes_100\n",
        "billetes_50 = dinero_50 // 50\n",
        "print (billetes_50, \" billetes de 50\")\n",
        "\n",
        "dinero_20 = dinero_50  - 50 * billetes_50\n",
        "billetes_20 = dinero_20 // 20\n",
        "print (billetes_20, \" billetes de 20\")\n",
        "\n",
        "dinero_10 = dinero_20  - 20 * billetes_20\n",
        "monedas_10 = dinero_10 // 10\n",
        "print (monedas_10, \" monedas de 10\")\n",
        "\n",
        "dinero_5 = dinero_10  - 10 * monedas_10\n",
        "monedas_5 = dinero_5 // 5\n",
        "print (monedas_5, \" monedas de 5\")\n",
        "\n",
        "dinero_2 = dinero_5  - 5 * monedas_5\n",
        "monedas_2 = dinero_2 // 2\n",
        "print (monedas_2, \" monedas de 2\")\n",
        "\n",
        "dinero_1 = dinero_2  - 2 * monedas_2\n",
        "print (dinero_1, \" monedas de 1\")\n",
        "\n",
        "\n",
        "   \n",
        "\n",
        "\n",
        "\n",
        "\n",
        "\n",
        "\n",
        "\n"
      ],
      "execution_count": null,
      "outputs": [
        {
          "output_type": "stream",
          "text": [
            "¿Cuánto dinero tienes?:23\n",
            "tienes  23  pesos\n",
            "0  billetes de 500\n",
            "0  billetes de 200\n",
            "0  billetes de 100\n",
            "0  billetes de 50\n",
            "1  billetes de 20\n",
            "0  monedas de 10\n",
            "0  monedas de 5\n",
            "1  monedas de 2\n",
            "1  monedas de 1\n"
          ],
          "name": "stdout"
        }
      ]
    }
  ]
}