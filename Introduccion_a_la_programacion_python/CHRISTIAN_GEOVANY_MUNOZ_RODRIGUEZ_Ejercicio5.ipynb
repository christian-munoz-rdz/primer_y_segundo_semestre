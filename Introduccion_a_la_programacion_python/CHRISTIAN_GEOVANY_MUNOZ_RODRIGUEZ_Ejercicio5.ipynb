{
  "nbformat": 4,
  "nbformat_minor": 0,
  "metadata": {
    "colab": {
      "provenance": [],
      "collapsed_sections": []
    },
    "kernelspec": {
      "name": "python3",
      "display_name": "Python 3"
    },
    "language_info": {
      "name": "python"
    }
  },
  "cells": [
    {
      "cell_type": "markdown",
      "metadata": {
        "id": "UcxsZab0EP4Z"
      },
      "source": [
        "# **Sentencia for**"
      ]
    },
    {
      "cell_type": "markdown",
      "metadata": {
        "id": "_a0QGrVSEU7f"
      },
      "source": [
        "**Ejercicio 1**\n",
        "\n",
        "> Solicite al usuario que ingrese una frase e imprima cuantas veces aparece cada vocal (a, e, i, o, u).\n",
        "\n",
        "**Ejemplo de salida en pantalla:**\n",
        "\n",
        "\n",
        "Ingresa una frase: Hola a todos\n",
        "\n",
        "La letra a aparece 2 veces\n",
        "\n",
        "La letra e aparece 0 veces\n",
        "\n",
        "La letra i aparece 0 veces\n",
        "\n",
        "La letra o aparece 3 veces\n",
        "\n",
        "La letra u aparece 0 veces\n"
      ]
    },
    {
      "cell_type": "code",
      "metadata": {
        "id": "vmaGqqSOEOz8",
        "colab": {
          "base_uri": "https://localhost:8080/"
        },
        "outputId": "5bcbb530-7d07-4009-e881-13bd63bb35ad"
      },
      "source": [
        "frase = input(\"Deme una frase: \")\n",
        "frase = frase.strip()\n",
        "frase = frase.lower()\n",
        "a = 0\n",
        "e = 0 \n",
        "i = 0\n",
        "o = 0\n",
        "u = 0\n",
        "\n",
        "for letra in frase:\n",
        "  if letra == \"a\":\n",
        "    a += 1\n",
        "  elif letra == \"e\":\n",
        "    e += 1\n",
        "  elif letra == \"i\":\n",
        "    i += 1\n",
        "  elif letra == \"o\":\n",
        "    o += 1\n",
        "  elif letra == \"u\":\n",
        "    u += 1\n",
        "\n",
        "print(\"\\nLa letra a aparece\",a,\"veces\")\n",
        "print(\"\\nLa letra e aparece\",e,\"veces\")\n",
        "print(\"\\nLa letra i aparece\",i,\"veces\")\n",
        "print(\"\\nLa letra o aparece\",o,\"veces\")\n",
        "print(\"\\nLa letra u aparece\",u,\"veces\")"
      ],
      "execution_count": null,
      "outputs": [
        {
          "output_type": "stream",
          "text": [
            "Deme una frase: Ingenieria en computacion\n",
            "\n",
            "La letra a aparece 2 veces\n",
            "\n",
            "La letra e aparece 3 veces\n",
            "\n",
            "La letra i aparece 4 veces\n",
            "\n",
            "La letra o aparece 2 veces\n",
            "\n",
            "La letra u aparece 1 veces\n"
          ],
          "name": "stdout"
        }
      ]
    },
    {
      "cell_type": "markdown",
      "metadata": {
        "id": "OnTNTi6mEren"
      },
      "source": [
        "**Ejercicio 2**\n",
        "\n",
        "> Muestre en pantalla todos los números impares que se encuentran del 1 al 80.\n",
        "\n"
      ]
    },
    {
      "cell_type": "code",
      "metadata": {
        "id": "jweZvYiTEqX8",
        "colab": {
          "base_uri": "https://localhost:8080/"
        },
        "outputId": "f51c9d6f-ecbe-42ee-f40d-278c6671ab91"
      },
      "source": [
        "print(\"Los números impares presentes del 1 al 80 son:\")\n",
        "for i in range(1,81):\n",
        "  if i % 2 !=0:\n",
        "    print(i)"
      ],
      "execution_count": null,
      "outputs": [
        {
          "output_type": "stream",
          "text": [
            "Los números impares presentes del 1 al 80 son:\n",
            "1\n",
            "3\n",
            "5\n",
            "7\n",
            "9\n",
            "11\n",
            "13\n",
            "15\n",
            "17\n",
            "19\n",
            "21\n",
            "23\n",
            "25\n",
            "27\n",
            "29\n",
            "31\n",
            "33\n",
            "35\n",
            "37\n",
            "39\n",
            "41\n",
            "43\n",
            "45\n",
            "47\n",
            "49\n",
            "51\n",
            "53\n",
            "55\n",
            "57\n",
            "59\n",
            "61\n",
            "63\n",
            "65\n",
            "67\n",
            "69\n",
            "71\n",
            "73\n",
            "75\n",
            "77\n",
            "79\n"
          ],
          "name": "stdout"
        }
      ]
    }
  ]
}